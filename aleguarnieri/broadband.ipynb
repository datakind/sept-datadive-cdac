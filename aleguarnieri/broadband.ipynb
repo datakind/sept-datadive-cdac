{
 "cells": [
  {
   "cell_type": "code",
   "execution_count": 23,
   "metadata": {},
   "outputs": [],
   "source": [
    "import pandas as pd\n",
    "pd.set_option(\"display.max_columns\", 500)\n"
   ]
  },
  {
   "cell_type": "code",
   "execution_count": 4,
   "metadata": {},
   "outputs": [],
   "source": [
    "ookla_combined_fl = pd.read_csv(\"FLORIDA/ookla_combined_fl.csv\")\n",
    "fcc_477_census_tract_FL = pd.read_csv(\"FLORIDA/fcc_477_census_tract_FL.csv\")\n",
    "acs_2019_FL = pd.read_csv(\"FLORIDA/acs_2019_FL.csv\")"
   ]
  },
  {
   "cell_type": "code",
   "execution_count": 10,
   "metadata": {},
   "outputs": [
    {
     "data": {
      "text/html": [
       "<div>\n",
       "<style scoped>\n",
       "    .dataframe tbody tr th:only-of-type {\n",
       "        vertical-align: middle;\n",
       "    }\n",
       "\n",
       "    .dataframe tbody tr th {\n",
       "        vertical-align: top;\n",
       "    }\n",
       "\n",
       "    .dataframe thead th {\n",
       "        text-align: right;\n",
       "    }\n",
       "</style>\n",
       "<table border=\"1\" class=\"dataframe\">\n",
       "  <thead>\n",
       "    <tr style=\"text-align: right;\">\n",
       "      <th></th>\n",
       "      <th>quadkey</th>\n",
       "      <th>avg_d_kbps</th>\n",
       "      <th>avg_u_kbps</th>\n",
       "      <th>avg_lat_ms</th>\n",
       "      <th>tests</th>\n",
       "      <th>devices</th>\n",
       "      <th>type</th>\n",
       "      <th>quarter</th>\n",
       "      <th>year</th>\n",
       "      <th>STATEFP</th>\n",
       "      <th>COUNTYFP</th>\n",
       "      <th>TRACTCE</th>\n",
       "      <th>AFFGEOID</th>\n",
       "      <th>GEOID</th>\n",
       "      <th>NAME</th>\n",
       "      <th>LSAD</th>\n",
       "      <th>ALAND</th>\n",
       "      <th>AWATER</th>\n",
       "      <th>tile</th>\n",
       "    </tr>\n",
       "  </thead>\n",
       "  <tbody>\n",
       "    <tr>\n",
       "      <th>0</th>\n",
       "      <td>320201332021332</td>\n",
       "      <td>90726</td>\n",
       "      <td>28194</td>\n",
       "      <td>35</td>\n",
       "      <td>3</td>\n",
       "      <td>2</td>\n",
       "      <td>fixed</td>\n",
       "      <td>Q1</td>\n",
       "      <td>2021</td>\n",
       "      <td>12</td>\n",
       "      <td>37</td>\n",
       "      <td>970302</td>\n",
       "      <td>1400000US12037970302</td>\n",
       "      <td>12037970302</td>\n",
       "      <td>9703.02</td>\n",
       "      <td>CT</td>\n",
       "      <td>126051207</td>\n",
       "      <td>58611667</td>\n",
       "      <td>list(c(-85.001220703125, -84.9957275390625, -8...</td>\n",
       "    </tr>\n",
       "    <tr>\n",
       "      <th>1</th>\n",
       "      <td>320231100220123</td>\n",
       "      <td>159542</td>\n",
       "      <td>31827</td>\n",
       "      <td>14</td>\n",
       "      <td>60</td>\n",
       "      <td>10</td>\n",
       "      <td>fixed</td>\n",
       "      <td>Q1</td>\n",
       "      <td>2021</td>\n",
       "      <td>12</td>\n",
       "      <td>99</td>\n",
       "      <td>905</td>\n",
       "      <td>1400000US12099000905</td>\n",
       "      <td>12099000905</td>\n",
       "      <td>9.05</td>\n",
       "      <td>CT</td>\n",
       "      <td>4601460</td>\n",
       "      <td>244009</td>\n",
       "      <td>list(c(-80.1287841796875, -80.123291015625, -8...</td>\n",
       "    </tr>\n",
       "    <tr>\n",
       "      <th>2</th>\n",
       "      <td>320231102200112</td>\n",
       "      <td>211000</td>\n",
       "      <td>52752</td>\n",
       "      <td>14</td>\n",
       "      <td>37</td>\n",
       "      <td>18</td>\n",
       "      <td>fixed</td>\n",
       "      <td>Q1</td>\n",
       "      <td>2021</td>\n",
       "      <td>12</td>\n",
       "      <td>99</td>\n",
       "      <td>5916</td>\n",
       "      <td>1400000US12099005916</td>\n",
       "      <td>12099005916</td>\n",
       "      <td>59.16</td>\n",
       "      <td>CT</td>\n",
       "      <td>3155445</td>\n",
       "      <td>0</td>\n",
       "      <td>list(c(-80.123291015625, -80.1177978515625, -8...</td>\n",
       "    </tr>\n",
       "    <tr>\n",
       "      <th>3</th>\n",
       "      <td>320231223033003</td>\n",
       "      <td>115365</td>\n",
       "      <td>20575</td>\n",
       "      <td>15</td>\n",
       "      <td>7</td>\n",
       "      <td>5</td>\n",
       "      <td>fixed</td>\n",
       "      <td>Q1</td>\n",
       "      <td>2021</td>\n",
       "      <td>12</td>\n",
       "      <td>87</td>\n",
       "      <td>971200</td>\n",
       "      <td>1400000US12087971200</td>\n",
       "      <td>12087971200</td>\n",
       "      <td>9712.00</td>\n",
       "      <td>CT</td>\n",
       "      <td>3954857</td>\n",
       "      <td>3876328</td>\n",
       "      <td>list(c(-81.0736083984375, -81.068115234375, -8...</td>\n",
       "    </tr>\n",
       "    <tr>\n",
       "      <th>4</th>\n",
       "      <td>320212301232330</td>\n",
       "      <td>217592</td>\n",
       "      <td>48549</td>\n",
       "      <td>9</td>\n",
       "      <td>21</td>\n",
       "      <td>8</td>\n",
       "      <td>fixed</td>\n",
       "      <td>Q1</td>\n",
       "      <td>2021</td>\n",
       "      <td>12</td>\n",
       "      <td>57</td>\n",
       "      <td>11906</td>\n",
       "      <td>1400000US12057011906</td>\n",
       "      <td>12057011906</td>\n",
       "      <td>119.06</td>\n",
       "      <td>CT</td>\n",
       "      <td>1560086</td>\n",
       "      <td>4190</td>\n",
       "      <td>list(c(-82.496337890625, -82.4908447265625, -8...</td>\n",
       "    </tr>\n",
       "  </tbody>\n",
       "</table>\n",
       "</div>"
      ],
      "text/plain": [
       "           quadkey  avg_d_kbps  avg_u_kbps  avg_lat_ms  tests  devices   type  \\\n",
       "0  320201332021332       90726       28194          35      3        2  fixed   \n",
       "1  320231100220123      159542       31827          14     60       10  fixed   \n",
       "2  320231102200112      211000       52752          14     37       18  fixed   \n",
       "3  320231223033003      115365       20575          15      7        5  fixed   \n",
       "4  320212301232330      217592       48549           9     21        8  fixed   \n",
       "\n",
       "  quarter  year  STATEFP  COUNTYFP  TRACTCE              AFFGEOID  \\\n",
       "0      Q1  2021       12        37   970302  1400000US12037970302   \n",
       "1      Q1  2021       12        99      905  1400000US12099000905   \n",
       "2      Q1  2021       12        99     5916  1400000US12099005916   \n",
       "3      Q1  2021       12        87   971200  1400000US12087971200   \n",
       "4      Q1  2021       12        57    11906  1400000US12057011906   \n",
       "\n",
       "         GEOID     NAME LSAD      ALAND    AWATER  \\\n",
       "0  12037970302  9703.02   CT  126051207  58611667   \n",
       "1  12099000905     9.05   CT    4601460    244009   \n",
       "2  12099005916    59.16   CT    3155445         0   \n",
       "3  12087971200  9712.00   CT    3954857   3876328   \n",
       "4  12057011906   119.06   CT    1560086      4190   \n",
       "\n",
       "                                                tile  \n",
       "0  list(c(-85.001220703125, -84.9957275390625, -8...  \n",
       "1  list(c(-80.1287841796875, -80.123291015625, -8...  \n",
       "2  list(c(-80.123291015625, -80.1177978515625, -8...  \n",
       "3  list(c(-81.0736083984375, -81.068115234375, -8...  \n",
       "4  list(c(-82.496337890625, -82.4908447265625, -8...  "
      ]
     },
     "execution_count": 10,
     "metadata": {},
     "output_type": "execute_result"
    }
   ],
   "source": [
    "ookla_combined_fl.head()"
   ]
  },
  {
   "cell_type": "code",
   "execution_count": 8,
   "metadata": {},
   "outputs": [
    {
     "data": {
      "text/html": [
       "<div>\n",
       "<style scoped>\n",
       "    .dataframe tbody tr th:only-of-type {\n",
       "        vertical-align: middle;\n",
       "    }\n",
       "\n",
       "    .dataframe tbody tr th {\n",
       "        vertical-align: top;\n",
       "    }\n",
       "\n",
       "    .dataframe thead th {\n",
       "        text-align: right;\n",
       "    }\n",
       "</style>\n",
       "<table border=\"1\" class=\"dataframe\">\n",
       "  <thead>\n",
       "    <tr style=\"text-align: right;\">\n",
       "      <th></th>\n",
       "      <th>tract</th>\n",
       "      <th>max_dn</th>\n",
       "      <th>max_up</th>\n",
       "      <th>dn10</th>\n",
       "      <th>dn100</th>\n",
       "      <th>dn250</th>\n",
       "      <th>fiber_100u</th>\n",
       "      <th>state</th>\n",
       "    </tr>\n",
       "  </thead>\n",
       "  <tbody>\n",
       "    <tr>\n",
       "      <th>0</th>\n",
       "      <td>12001000200</td>\n",
       "      <td>979.959184</td>\n",
       "      <td>53.995265</td>\n",
       "      <td>1.925170</td>\n",
       "      <td>1.000000</td>\n",
       "      <td>1.000000</td>\n",
       "      <td>0.020408</td>\n",
       "      <td>12</td>\n",
       "    </tr>\n",
       "    <tr>\n",
       "      <th>1</th>\n",
       "      <td>12001000301</td>\n",
       "      <td>990.015000</td>\n",
       "      <td>34.653840</td>\n",
       "      <td>1.560000</td>\n",
       "      <td>1.060000</td>\n",
       "      <td>1.000000</td>\n",
       "      <td>0.000000</td>\n",
       "      <td>12</td>\n",
       "    </tr>\n",
       "    <tr>\n",
       "      <th>2</th>\n",
       "      <td>12001000302</td>\n",
       "      <td>989.663158</td>\n",
       "      <td>44.797558</td>\n",
       "      <td>1.178947</td>\n",
       "      <td>1.010526</td>\n",
       "      <td>1.000000</td>\n",
       "      <td>0.010526</td>\n",
       "      <td>12</td>\n",
       "    </tr>\n",
       "    <tr>\n",
       "      <th>3</th>\n",
       "      <td>12001000400</td>\n",
       "      <td>947.382979</td>\n",
       "      <td>33.170979</td>\n",
       "      <td>1.329787</td>\n",
       "      <td>0.946809</td>\n",
       "      <td>0.946809</td>\n",
       "      <td>0.000000</td>\n",
       "      <td>12</td>\n",
       "    </tr>\n",
       "    <tr>\n",
       "      <th>4</th>\n",
       "      <td>12001000500</td>\n",
       "      <td>967.066914</td>\n",
       "      <td>392.588372</td>\n",
       "      <td>2.130112</td>\n",
       "      <td>1.405204</td>\n",
       "      <td>1.364312</td>\n",
       "      <td>0.371747</td>\n",
       "      <td>12</td>\n",
       "    </tr>\n",
       "  </tbody>\n",
       "</table>\n",
       "</div>"
      ],
      "text/plain": [
       "         tract      max_dn      max_up      dn10     dn100     dn250  \\\n",
       "0  12001000200  979.959184   53.995265  1.925170  1.000000  1.000000   \n",
       "1  12001000301  990.015000   34.653840  1.560000  1.060000  1.000000   \n",
       "2  12001000302  989.663158   44.797558  1.178947  1.010526  1.000000   \n",
       "3  12001000400  947.382979   33.170979  1.329787  0.946809  0.946809   \n",
       "4  12001000500  967.066914  392.588372  2.130112  1.405204  1.364312   \n",
       "\n",
       "   fiber_100u  state  \n",
       "0    0.020408     12  \n",
       "1    0.000000     12  \n",
       "2    0.010526     12  \n",
       "3    0.000000     12  \n",
       "4    0.371747     12  "
      ]
     },
     "execution_count": 8,
     "metadata": {},
     "output_type": "execute_result"
    }
   ],
   "source": [
    "fcc_477_census_tract_FL.head()"
   ]
  },
  {
   "cell_type": "code",
   "execution_count": 15,
   "metadata": {},
   "outputs": [
    {
     "data": {
      "text/plain": [
       "4116"
      ]
     },
     "execution_count": 15,
     "metadata": {},
     "output_type": "execute_result"
    }
   ],
   "source": [
    "ookla_combined_fl.GEOID.nunique()"
   ]
  },
  {
   "cell_type": "code",
   "execution_count": 28,
   "metadata": {},
   "outputs": [
    {
     "data": {
      "text/plain": [
       "259468"
      ]
     },
     "execution_count": 28,
     "metadata": {},
     "output_type": "execute_result"
    }
   ],
   "source": [
    "len(ookla_combined_fl)"
   ]
  },
  {
   "cell_type": "code",
   "execution_count": 16,
   "metadata": {},
   "outputs": [
    {
     "data": {
      "text/plain": [
       "4205"
      ]
     },
     "execution_count": 16,
     "metadata": {},
     "output_type": "execute_result"
    }
   ],
   "source": [
    "fcc_477_census_tract_FL.tract.nunique()"
   ]
  },
  {
   "cell_type": "code",
   "execution_count": 29,
   "metadata": {},
   "outputs": [
    {
     "data": {
      "text/plain": [
       "4205"
      ]
     },
     "execution_count": 29,
     "metadata": {},
     "output_type": "execute_result"
    }
   ],
   "source": [
    "len(fcc_477_census_tract_FL)"
   ]
  },
  {
   "cell_type": "code",
   "execution_count": 30,
   "metadata": {},
   "outputs": [],
   "source": [
    "ookla_fcc = pd.merge(ookla_combined_fl, fcc_477_census_tract_FL, left_on=\"GEOID\", right_on=\"tract\")"
   ]
  },
  {
   "cell_type": "code",
   "execution_count": 31,
   "metadata": {},
   "outputs": [
    {
     "data": {
      "text/plain": [
       "259390"
      ]
     },
     "execution_count": 31,
     "metadata": {},
     "output_type": "execute_result"
    }
   ],
   "source": [
    "len(result)"
   ]
  },
  {
   "cell_type": "code",
   "execution_count": 32,
   "metadata": {},
   "outputs": [
    {
     "data": {
      "text/plain": [
       "4105"
      ]
     },
     "execution_count": 32,
     "metadata": {},
     "output_type": "execute_result"
    }
   ],
   "source": [
    "result.tract.nunique()"
   ]
  },
  {
   "cell_type": "code",
   "execution_count": 33,
   "metadata": {},
   "outputs": [
    {
     "data": {
      "text/plain": [
       "4105"
      ]
     },
     "execution_count": 33,
     "metadata": {},
     "output_type": "execute_result"
    }
   ],
   "source": [
    "result.GEOID.nunique()"
   ]
  },
  {
   "cell_type": "code",
   "execution_count": null,
   "metadata": {},
   "outputs": [],
   "source": []
  }
 ],
 "metadata": {
  "kernelspec": {
   "display_name": "Python 3",
   "language": "python",
   "name": "python3"
  },
  "language_info": {
   "codemirror_mode": {
    "name": "ipython",
    "version": 3
   },
   "file_extension": ".py",
   "mimetype": "text/x-python",
   "name": "python",
   "nbconvert_exporter": "python",
   "pygments_lexer": "ipython3",
   "version": "3.7.9"
  }
 },
 "nbformat": 4,
 "nbformat_minor": 4
}
