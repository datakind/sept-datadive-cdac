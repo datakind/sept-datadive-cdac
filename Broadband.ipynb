{
 "cells": [
  {
   "cell_type": "code",
   "execution_count": 110,
   "metadata": {},
   "outputs": [],
   "source": [
    "%matplotlib inline\n",
    "import numpy as np\n",
    "import pandas as pd\n",
    "import geopandas as gpd\n",
    "import matplotlib.pyplot as plt\n",
    "import shapefile as shp\n",
    "import seaborn as sns\n",
    "from statistics import mean\n",
    "\n",
    "#sns.set(style='whitegrid', palette='pastel', color_codes=True)\n",
    "#sns.mpl.rc('figure', figsize=(10,6))"
   ]
  },
  {
   "cell_type": "code",
   "execution_count": 161,
   "metadata": {},
   "outputs": [],
   "source": [
    "FCC_df = pd.read_csv(r'C:\\Users\\Ping\\Desktop\\Ping\\DataKind_Data_Dive_Broadband_Access\\fcc_477_census_tract_NY.csv')"
   ]
  },
  {
   "cell_type": "code",
   "execution_count": 4,
   "metadata": {},
   "outputs": [
    {
     "data": {
      "text/plain": [
       "<AxesSubplot:>"
      ]
     },
     "execution_count": 4,
     "metadata": {},
     "output_type": "execute_result"
    },
    {
     "data": {
      "image/png": "[encoded data removed]",
      "text/plain": [
       "<Figure size 432x288 with 1 Axes>"
      ]
     },
     "metadata": {
      "needs_background": "light"
     },
     "output_type": "display_data"
    }
   ],
   "source": [
    "FCC_df['dn100'].hist(bins = 50)\n",
    "# Observation that FCC dn100 etc. fields have a discrete quality - suggesting tendency to uniformity across each census tract?"
   ]
  },
  {
   "cell_type": "code",
   "execution_count": 132,
   "metadata": {},
   "outputs": [
    {
     "data": {
      "text/plain": [
       "8450649"
      ]
     },
     "execution_count": 132,
     "metadata": {},
     "output_type": "execute_result"
    }
   ],
   "source": [
    "ookla_df = pd.read_csv(r'C:\\Users\\Ping\\Desktop\\Ping\\DataKind_Data_Dive_Broadband_Access\\ookla_combined_ny.csv') \n",
    "ookla_df.head \n",
    "ookla_df.columns \n",
    "ookla_df.size"
   ]
  },
  {
   "cell_type": "code",
   "execution_count": 138,
   "metadata": {},
   "outputs": [],
   "source": [
    "# Remove NaN's but in this case there don't appear to be any\n",
    "ookla_df1 = ookla_df[:][ookla_df.avg_d_kbps.isnull()==False]\n",
    "\n",
    "# Manual weighted average by devices\n",
    "ookla_df1.loc[:,'temp1'] = ookla_df1.avg_d_kbps*ookla_df1.devices\n",
    "GEOIDs = ookla_df.GEOID.unique()\n",
    "d_kbps = [None]*len(GEOIDs)\n",
    "n_quadkeys = [None]*len(GEOIDs)\n",
    "for ind in range(0,len(GEOIDs)):\n",
    "    sub = ookla_df1[ookla_df1['GEOID']==GEOIDs[ind]]\n",
    "    n_quadkeys[ind] = len(sub)\n",
    "    if sub['temp1'].sum()==0 :\n",
    "        d_kbps[ind] = 0     # to prevent divide by zero\n",
    "    else:        \n",
    "        d_kbps[ind] = sub['temp1'].sum()/sub['devices'].sum()    \n",
    "    "
   ]
  },
  {
   "cell_type": "code",
   "execution_count": 162,
   "metadata": {},
   "outputs": [
    {
     "data": {
      "text/plain": [
       "114.30763299922899"
      ]
     },
     "execution_count": 162,
     "metadata": {},
     "output_type": "execute_result"
    }
   ],
   "source": [
    "mean(n_quadkeys)"
   ]
  },
  {
   "cell_type": "code",
   "execution_count": 163,
   "metadata": {},
   "outputs": [],
   "source": [
    "list_of_tuples = list(zip(GEOIDs, d_kbps))\n",
    "GEOID_d_kbps = pd.DataFrame(list_of_tuples, columns = ['GEOID','avg_avg_d_kbps'])"
   ]
  },
  {
   "cell_type": "code",
   "execution_count": 164,
   "metadata": {},
   "outputs": [
    {
     "data": {
      "text/html": [
       "<div>\n",
       "<style scoped>\n",
       "    .dataframe tbody tr th:only-of-type {\n",
       "        vertical-align: middle;\n",
       "    }\n",
       "\n",
       "    .dataframe tbody tr th {\n",
       "        vertical-align: top;\n",
       "    }\n",
       "\n",
       "    .dataframe thead th {\n",
       "        text-align: right;\n",
       "    }\n",
       "</style>\n",
       "<table border=\"1\" class=\"dataframe\">\n",
       "  <thead>\n",
       "    <tr style=\"text-align: right;\">\n",
       "      <th></th>\n",
       "      <th>GEOID</th>\n",
       "      <th>avg_avg_d_kbps</th>\n",
       "    </tr>\n",
       "  </thead>\n",
       "  <tbody>\n",
       "    <tr>\n",
       "      <th>0</th>\n",
       "      <td>36103170202</td>\n",
       "      <td>156808.183932</td>\n",
       "    </tr>\n",
       "    <tr>\n",
       "      <th>1</th>\n",
       "      <td>36063024502</td>\n",
       "      <td>162651.432359</td>\n",
       "    </tr>\n",
       "    <tr>\n",
       "      <th>2</th>\n",
       "      <td>36047092400</td>\n",
       "      <td>210133.765027</td>\n",
       "    </tr>\n",
       "    <tr>\n",
       "      <th>3</th>\n",
       "      <td>36029014702</td>\n",
       "      <td>124677.289109</td>\n",
       "    </tr>\n",
       "    <tr>\n",
       "      <th>4</th>\n",
       "      <td>36029007302</td>\n",
       "      <td>125097.184773</td>\n",
       "    </tr>\n",
       "    <tr>\n",
       "      <th>...</th>\n",
       "      <td>...</td>\n",
       "      <td>...</td>\n",
       "    </tr>\n",
       "    <tr>\n",
       "      <th>3886</th>\n",
       "      <td>36055009200</td>\n",
       "      <td>105425.000000</td>\n",
       "    </tr>\n",
       "    <tr>\n",
       "      <th>3887</th>\n",
       "      <td>36005000100</td>\n",
       "      <td>89711.600000</td>\n",
       "    </tr>\n",
       "    <tr>\n",
       "      <th>3888</th>\n",
       "      <td>36055980100</td>\n",
       "      <td>29666.000000</td>\n",
       "    </tr>\n",
       "    <tr>\n",
       "      <th>3889</th>\n",
       "      <td>36081049200</td>\n",
       "      <td>47160.000000</td>\n",
       "    </tr>\n",
       "    <tr>\n",
       "      <th>3890</th>\n",
       "      <td>36089491900</td>\n",
       "      <td>69903.000000</td>\n",
       "    </tr>\n",
       "  </tbody>\n",
       "</table>\n",
       "<p>3891 rows × 2 columns</p>\n",
       "</div>"
      ],
      "text/plain": [
       "            GEOID  avg_avg_d_kbps\n",
       "0     36103170202   156808.183932\n",
       "1     36063024502   162651.432359\n",
       "2     36047092400   210133.765027\n",
       "3     36029014702   124677.289109\n",
       "4     36029007302   125097.184773\n",
       "...           ...             ...\n",
       "3886  36055009200   105425.000000\n",
       "3887  36005000100    89711.600000\n",
       "3888  36055980100    29666.000000\n",
       "3889  36081049200    47160.000000\n",
       "3890  36089491900    69903.000000\n",
       "\n",
       "[3891 rows x 2 columns]"
      ]
     },
     "execution_count": 164,
     "metadata": {},
     "output_type": "execute_result"
    }
   ],
   "source": [
    "GEOID_d_kbps"
   ]
  },
  {
   "cell_type": "code",
   "execution_count": null,
   "metadata": {},
   "outputs": [],
   "source": []
  }
 ],
 "metadata": {
  "kernelspec": {
   "display_name": "Python 3",
   "language": "python",
   "name": "python3"
  },
  "language_info": {
   "codemirror_mode": {
    "name": "ipython",
    "version": 3
   },
   "file_extension": ".py",
   "mimetype": "text/x-python",
   "name": "python",
   "nbconvert_exporter": "python",
   "pygments_lexer": "ipython3",
   "version": "3.8.5"
  }
 },
 "nbformat": 4,
 "nbformat_minor": 4
}
