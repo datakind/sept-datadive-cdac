{
 "cells": [
  {
   "cell_type": "markdown",
   "source": [
    "# Tableau Preliminary EDA Visualizations"
   ],
   "metadata": {}
  },
  {
   "cell_type": "markdown",
   "source": [
    "The links for the interactive versions on Tableau Public are:\n",
    "\n",
    "[NYC Metro Area](https://public.tableau.com/views/DataKIndUCCDACProjectPreliminaryEDA-NYCMetro/NYCMetroArea?:language=en-US&:display_count=n&:origin=viz_share_link)\n",
    "\n",
    "[Chicagoland Area](https://public.tableau.com/views/DataKIndUCCDACProjectPreliminaryEDA-Chicago/Chicagoland?:language=en-US&:display_count=n&:origin=viz_share_link)\n",
    "\n",
    "I may have guessed the columns in the ACS database incorrectly, and changes still need to be made to incorporate the work from 1A, as well as finding a better way to connect MHI or race to the download rate. If you hover over each tract, I provided the other relevant information for some of the FCC and Oookla visualizations.\n",
    "\n",
    "Any feedback or suggestions would be greatly appreciated."
   ],
   "metadata": {}
  },
  {
   "cell_type": "markdown",
   "source": [
    "<img src=\"images/fcc_download_ny.png\">"
   ],
   "metadata": {}
  },
  {
   "cell_type": "markdown",
   "source": [],
   "metadata": {}
  },
  {
   "cell_type": "markdown",
   "source": [
    "<img src=\"images/hisp_pop_nyc.png\">"
   ],
   "metadata": {}
  },
  {
   "cell_type": "markdown",
   "source": [
    "<img src=\"images/mhi_nyc.png\">"
   ],
   "metadata": {}
  },
  {
   "cell_type": "markdown",
   "source": [
    "<img src=\"images/ookla_download_nyc.png\">"
   ],
   "metadata": {}
  },
  {
   "cell_type": "markdown",
   "source": [],
   "metadata": {}
  }
 ],
 "metadata": {
  "orig_nbformat": 4,
  "language_info": {
   "name": "python"
  }
 },
 "nbformat": 4,
 "nbformat_minor": 2
}