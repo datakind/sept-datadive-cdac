{
 "cells": [
  {
   "cell_type": "markdown",
   "source": [
    "# Tableau Preliminary EDA Visualizations"
   ],
   "metadata": {}
  },
  {
   "cell_type": "markdown",
   "source": [
    "The links for the interactive versions on Tableau Public are:\n",
    "\n",
    "[NYC Metro Area](https://public.tableau.com/views/DataKIndUCCDACProjectPreliminaryEDA-NYCMetro/NYCMetroArea?:language=en-US&publish=yes&:display_count=n&:origin=viz_share_link)\n",
    "\n",
    "I have revised the NYC visualization to incorporate my most recent changes in dataframe. Still unsure about the headings in ACS database.  I implemented teamookla's method of joining the Ookla and FCC dataset.  It also involved having two geodataframes.  I went to the ookla folder to use a different cvs or zip file that was the type of geodataframe, but did not have the `tile` column.  I joined the dataframes using `geopandas.sjoin`, as per teamookla's notebook. I also implemented a fellow colleague's method of aggregating in task 1A.  The four visualizations are on a dashboard where you select which visualization is presented to the user, but I am brainstorming a more effective way of presenting the data.\n",
    "\n",
    "If you hover over each tract, I have provided the other relevant information on the FCC and Oookla visualizations as visualized below.\n",
    "\n",
    "https://github.com/teamookla/ookla-open-data/blob/352915afe9fd88eec16fd9814812a8a977f9e04a/tutorials/aggregate_by_county_py.ipynb\n",
    "\n",
    "Any feedback or suggestions would be greatly appreciated."
   ],
   "metadata": {}
  },
  {
   "cell_type": "markdown",
   "source": [
    "<img src=\"images/screenshot1.png\">"
   ],
   "metadata": {}
  },
  {
   "cell_type": "markdown",
   "source": [
    "<img src=\"images/screenshot2.png\">"
   ],
   "metadata": {}
  },
  {
   "cell_type": "markdown",
   "source": [
    "<img src=\"images/screenshot3.png\">"
   ],
   "metadata": {}
  },
  {
   "cell_type": "markdown",
   "source": [
    "<img src=\"images/screenshot4.png\">"
   ],
   "metadata": {}
  },
  {
   "cell_type": "markdown",
   "source": [],
   "metadata": {}
  }
 ],
 "metadata": {
  "orig_nbformat": 4,
  "language_info": {
   "name": "python",
   "version": "3.9.4"
  },
  "kernelspec": {
   "name": "python3",
   "display_name": "Python 3.9.4 64-bit ('learn-env': conda)"
  },
  "interpreter": {
   "hash": "80773cdecc613a186b9eac051636553d2ff0f99c57590601666ed713bd5d0256"
  }
 },
 "nbformat": 4,
 "nbformat_minor": 2
}